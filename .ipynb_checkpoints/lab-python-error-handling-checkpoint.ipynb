{
 "cells": [
  {
   "cell_type": "markdown",
   "id": "25d7736c-ba17-4aff-b6bb-66eba20fbf4e",
   "metadata": {},
   "source": [
    "# Lab | Error Handling"
   ]
  },
  {
   "cell_type": "markdown",
   "id": "6f8e446f-16b4-4e21-92e7-9d3d1eb551b6",
   "metadata": {},
   "source": [
    "Objective: Practice how to identify, handle and recover from potential errors in Python code using try-except blocks."
   ]
  },
  {
   "cell_type": "markdown",
   "id": "e253e768-aed8-4791-a800-87add1204afa",
   "metadata": {},
   "source": [
    "## Challenge \n",
    "\n",
    "Paste here your lab *functions* solutions. Apply error handling techniques to each function using try-except blocks. "
   ]
  },
  {
   "cell_type": "markdown",
   "id": "9180ff86-c3fe-4152-a609-081a287fa1af",
   "metadata": {},
   "source": [
    "The try-except block in Python is designed to handle exceptions and provide a fallback mechanism when code encounters errors. By enclosing the code that could potentially throw errors in a try block, followed by specific or general exception handling in the except block, we can gracefully recover from errors and continue program execution.\n",
    "\n",
    "However, there may be cases where an input may not produce an immediate error, but still needs to be addressed. In such situations, it can be useful to explicitly raise an error using the \"raise\" keyword, either to draw attention to the issue or handle it elsewhere in the program.\n",
    "\n",
    "Modify the code to handle possible errors in Python, it is recommended to use `try-except-else-finally` blocks, incorporate the `raise` keyword where necessary, and print meaningful error messages to alert users of any issues that may occur during program execution.\n",
    "\n"
   ]
  },
  {
   "cell_type": "code",
   "execution_count": null,
   "id": "cc2c441d-9dcf-4817-b097-cf6cbe440846",
   "metadata": {},
   "outputs": [],
   "source": [
    "# your code goes here\n",
    "def initialize_inventory(products):\n",
    "    inventory = {}\n",
    "    for product in products:\n",
    "        valid_input = False\n",
    "        while not valid_input:\n",
    "            try:\n",
    "                quantity = int(input(f\"Enter the quantity of {product}s available: \"))\n",
    "                if quantity >= 0:\n",
    "                    inventory[product] = quantity\n",
    "                    valid_input = True\n",
    "                else:\n",
    "                    print(\"Quantity cannot be negative. Please enter a valid quantity.\")\n",
    "            except ValueError:\n",
    "                print(\"Invalid input. Please enter a valid quantity.\")\n",
    "    return inventory\n",
    "\n",
    "def get_price(customer_order):\n",
    "    total = 0\n",
    "    for item in customer_order:\n",
    "        valid_input = False\n",
    "        while not valid_input:\n",
    "            try:\n",
    "                price = float(input(f'Enter the price of {item}: '))\n",
    "                total += price\n",
    "                valid_input = True\n",
    "            except ValueError:\n",
    "                print('El precio tiene que ser un número positivo')\n",
    "    print('Total Price: ',round(total,2))\n",
    "    return round(total,2)\n",
    "\n",
    "def get_customer_orders(inventory):\n",
    "    valid_input = False\n",
    "    while not valid_input:\n",
    "        try:\n",
    "            num_customer = int(input('Enter the number of customer orders: '))\n",
    "            if num_customer > 0:\n",
    "                valid_input = True\n",
    "                customer_order = set()\n",
    "                num_orders = 0\n",
    "                while num_orders != num_customer:\n",
    "                    order = input('Enter the name of a product that a customer wants to order: ')\n",
    "                    try:\n",
    "                        if inventory.get(order)== 0:\n",
    "                            raise ValueError('Este producto está agotado')\n",
    "                        else:\n",
    "                            num_orders += 1\n",
    "                            customer_order.add(order)\n",
    "                    except ValueError:\n",
    "                        print('Este producto está agotado')\n",
    "                    except KeyError:\n",
    "                        print('Ese producto no existe')\n",
    "            else:\n",
    "                raise ValueError('Tiene que ser un valor positivo')\n",
    "        except ValueError:\n",
    "            print('Tienes que añadir un número entero.')\n",
    "        \n",
    "    return customer_order\n",
    "inventory = initialize_inventory(['manzana', 'hat', 'pineapple', 'TV'])\n",
    "customer_order = get_customer_orders(inventory)\n",
    "get_price(customer_order)\n"
   ]
  }
 ],
 "metadata": {
  "kernelspec": {
   "display_name": "Python 3 (ipykernel)",
   "language": "python",
   "name": "python3"
  },
  "language_info": {
   "codemirror_mode": {
    "name": "ipython",
    "version": 3
   },
   "file_extension": ".py",
   "mimetype": "text/x-python",
   "name": "python",
   "nbconvert_exporter": "python",
   "pygments_lexer": "ipython3",
   "version": "3.12.2"
  }
 },
 "nbformat": 4,
 "nbformat_minor": 5
}
